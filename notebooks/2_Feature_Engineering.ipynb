{
 "cells": [
  {
   "cell_type": "code",
   "execution_count": 289,
   "id": "14ef082d-c82a-44ba-ab3d-7a3482cb99c1",
   "metadata": {},
   "outputs": [
    {
     "name": "stdout",
     "output_type": "stream",
     "text": [
      "  Learner SignUp DateTime                  Opportunity Id  \\\n",
      "0     2023-06-14 12:30:35  00000000-0GN2-A0AY-7XK8-C5FZPP   \n",
      "1     2023-01-05 05:29:16  00000000-0GN2-A0AY-7XK8-C5FZPP   \n",
      "2     2023-09-04 20:35:08  00000000-0GN2-A0AY-7XK8-C5FZPP   \n",
      "3     2023-08-29 05:20:03  00000000-0GN2-A0AY-7XK8-C5FZPP   \n",
      "4     2023-06-01 15:26:36  00000000-0GN2-A0AY-7XK8-C5FZPP   \n",
      "\n",
      "                                    Opportunity Name Opportunity Category  \\\n",
      "0  Career Essentials: Getting Started with Your P...               Course   \n",
      "1  Career Essentials: Getting Started with Your P...               Course   \n",
      "2  Career Essentials: Getting Started with Your P...               Course   \n",
      "3  Career Essentials: Getting Started with Your P...               Course   \n",
      "4  Career Essentials: Getting Started with Your P...               Course   \n",
      "\n",
      "  Opportunity End Date        First Name        Date of Birth  Gender  \\\n",
      "0  2024-06-29 18:52:39             Faria  2001-12-01 00:00:00  Female   \n",
      "1  2024-06-29 18:52:39          Poojitha           08/16/2000  Female   \n",
      "2  2024-06-29 18:52:39          Emmanuel           01/27/2002    Male   \n",
      "3  2024-06-29 18:52:39  Amrutha Varshini  1999-01-11 00:00:00  Female   \n",
      "4  2024-06-29 18:52:39    Vinay Varshith           04/19/2000    Male   \n",
      "\n",
      "         Country                  Institution Name Current/Intended Major  \\\n",
      "0       Pakistan                             Nwihs              Radiology   \n",
      "1          India            Saint Louis University    Information Systems   \n",
      "2  United States  Illinois Institute of Technology       Computer Science   \n",
      "3  United States            Saint Louis University    Information Systems   \n",
      "4  United States            Saint Louis University       Computer Science   \n",
      "\n",
      "     Entry created at Status Description  Status Code          Apply Date  \\\n",
      "0 2024-11-03 12:01:41            Started         1080 2023-06-14 12:36:09   \n",
      "1 2024-11-03 12:01:41            Started         1080 2023-01-05 06:08:21   \n",
      "2 2024-11-03 12:01:41            Started         1080 2023-11-05 00:00:00   \n",
      "3 2024-11-03 12:01:41     Team Allocated         1070 2023-09-10 22:02:42   \n",
      "4 2024-11-03 12:01:41            Started         1080 2023-06-01 15:40:10   \n",
      "\n",
      "  Opportunity Start Date  \n",
      "0    2022-03-11 18:30:39  \n",
      "1    2022-03-11 18:30:39  \n",
      "2    2022-03-11 18:30:39  \n",
      "3    2022-03-11 18:30:39  \n",
      "4    2022-03-11 18:30:39  \n"
     ]
    },
    {
     "data": {
      "text/plain": [
       "(8558, 16)"
      ]
     },
     "execution_count": 289,
     "metadata": {},
     "output_type": "execute_result"
    }
   ],
   "source": [
    "import pandas as pd\n",
    "import numpy as np\n",
    "from sklearn.preprocessing import StandardScaler\n",
    "file_path = \"cleaned_data.xlsx\"  \n",
    "df = pd.read_excel(file_path)\n",
    "print(df.head())\n",
    "df.shape"
   ]
  },
  {
   "cell_type": "code",
   "execution_count": 78,
   "id": "eb96f9bb-0def-4311-8461-605d661ffdab",
   "metadata": {},
   "outputs": [
    {
     "name": "stdout",
     "output_type": "stream",
     "text": [
      "<class 'pandas.core.frame.DataFrame'>\n",
      "RangeIndex: 8558 entries, 0 to 8557\n",
      "Data columns (total 16 columns):\n",
      " #   Column                   Non-Null Count  Dtype         \n",
      "---  ------                   --------------  -----         \n",
      " 0   Learner SignUp DateTime  8558 non-null   datetime64[ns]\n",
      " 1   Opportunity Id           8558 non-null   object        \n",
      " 2   Opportunity Name         8558 non-null   object        \n",
      " 3   Opportunity Category     8558 non-null   object        \n",
      " 4   Opportunity End Date     8558 non-null   datetime64[ns]\n",
      " 5   First Name               8558 non-null   object        \n",
      " 6   Date of Birth            8558 non-null   object        \n",
      " 7   Gender                   8558 non-null   object        \n",
      " 8   Country                  8558 non-null   object        \n",
      " 9   Institution Name         8558 non-null   object        \n",
      " 10  Current/Intended Major   8558 non-null   object        \n",
      " 11  Entry created at         8558 non-null   datetime64[ns]\n",
      " 12  Status Description       8558 non-null   object        \n",
      " 13  Status Code              8558 non-null   int64         \n",
      " 14  Apply Date               8558 non-null   datetime64[ns]\n",
      " 15  Opportunity Start Date   8558 non-null   datetime64[ns]\n",
      "dtypes: datetime64[ns](5), int64(1), object(10)\n",
      "memory usage: 1.0+ MB\n",
      "None\n"
     ]
    }
   ],
   "source": [
    "print(df.info())"
   ]
  },
  {
   "cell_type": "code",
   "execution_count": 291,
   "id": "aeb38968-0142-4b88-b98f-5d82997505bc",
   "metadata": {},
   "outputs": [
    {
     "name": "stdout",
     "output_type": "stream",
     "text": [
      "Learner SignUp DateTime    datetime64[ns]\n",
      "Opportunity Id                     object\n",
      "Opportunity Name           string[python]\n",
      "Opportunity Category       string[python]\n",
      "Opportunity End Date       datetime64[ns]\n",
      "First Name                 string[python]\n",
      "Date of Birth                      object\n",
      "Gender                     string[python]\n",
      "Country                    string[python]\n",
      "Institution Name           string[python]\n",
      "Current/Intended Major     string[python]\n",
      "Entry created at           datetime64[ns]\n",
      "Status Description         string[python]\n",
      "Status Code                         int64\n",
      "Apply Date                 datetime64[ns]\n",
      "Opportunity Start Date     datetime64[ns]\n",
      "dtype: object\n"
     ]
    }
   ],
   "source": [
    "string_columns = [\"First Name\", \"Country\", \"Institution Name\", \"Current/Intended Major\", \"Opportunity Name\", \"Opportunity Category\", \"Status Description\", \"Gender\"]\n",
    "df[string_columns] = df[string_columns].astype(\"string\")\n",
    "\n",
    "print(df.dtypes)"
   ]
  },
  {
   "cell_type": "code",
   "execution_count": 324,
   "id": "98ee05f4-54fa-49b7-a8f6-2ebc5b0eaae4",
   "metadata": {},
   "outputs": [
    {
     "name": "stdout",
     "output_type": "stream",
     "text": [
      "\n",
      "1. DATE/TIME FEATURES:\n",
      "Date features created:\n",
      "   - Age, Current_Age, Age_Group\n",
      "   - Signup_to_Apply_Days, Course_Duration_Days\n",
      "   - Signup_Month, Signup_Weekday, Signup_Hour\n",
      "   - Is_Weekend_Signup, Quick_Applicant\n"
     ]
    }
   ],
   "source": [
    "print(\"\\n1. DATE/TIME FEATURES:\")\n",
    "\n",
    "# Convert date columns to datetime\n",
    "date_columns = ['Learner SignUp DateTime', 'Date of Birth', 'Apply Date',\n",
    "                'Opportunity End Date', 'Opportunity Start Date', 'Entry created at']\n",
    "\n",
    "for col in date_columns:\n",
    "    if col in df.columns:\n",
    "        df[col] = pd.to_datetime(df[col], errors='coerce')\n",
    "\n",
    "# 1. Raw Age (in years, integer)\n",
    "df['Age'] = ((datetime.now() - df['Date of Birth']).dt.days / 365.25).astype(int)\n",
    "\n",
    "# 2. Keep a copy of Age before scaling\n",
    "df['Current_Age'] = df['Age']\n",
    "\n",
    "# 3. Standardize Current_Age\n",
    "scaler = StandardScaler()\n",
    "df['Current_Age'] = scaler.fit_transform(df[['Current_Age']])\n",
    "\n",
    "# Age groups\n",
    "df['Age_Group'] = pd.cut(df['Age'],\n",
    "                         bins=[0, 20, 25, 30, 35, 100],\n",
    "                         labels=['Teen', 'Young_Adult', 'Adult', 'Mid_Adult', 'Senior'])\n",
    "\n",
    "# Signup to Apply gap\n",
    "df['Signup_to_Apply_Days'] = (df['Apply Date'] - df['Learner SignUp DateTime']).dt.days\n",
    "df['Course_Duration_Days'] = (df['Opportunity End Date'] - df['Opportunity Start Date']).dt.days\n",
    "\n",
    "# Signup breakdown\n",
    "df['Signup_Month'] = df['Learner SignUp DateTime'].dt.month\n",
    "df['Signup_Weekday'] = df['Learner SignUp DateTime'].dt.day_name()\n",
    "df['Signup_Hour'] = df['Learner SignUp DateTime'].dt.hour\n",
    "df['Is_Weekend_Signup'] = df['Learner SignUp DateTime'].dt.weekday >= 5\n",
    "\n",
    "# Quick applicant flag\n",
    "df['Quick_Applicant'] = (df['Signup_to_Apply_Days'] <= 1).astype(int)\n",
    "\n",
    "print(\"Date features created:\")\n",
    "print(\"   - Age, Current_Age, Age_Group\")\n",
    "print(\"   - Signup_to_Apply_Days, Course_Duration_Days\")\n",
    "print(\"   - Signup_Month, Signup_Weekday, Signup_Hour\")\n",
    "print(\"   - Is_Weekend_Signup, Quick_Applicant\")\n",
    "\n",
    "df['Invalid_Application_Timing'] = df['Signup_to_Apply_Days'] < 0"
   ]
  },
  {
   "cell_type": "code",
   "execution_count": 295,
   "id": "d4ab1d10-9767-441f-82f8-ba9d0715f3d9",
   "metadata": {},
   "outputs": [
    {
     "name": "stdout",
     "output_type": "stream",
     "text": [
      "\n",
      "2. CATEGORICAL FEATURES:\n",
      "Categorical features created:\n",
      "   - Gender_Encoded\n",
      "   - Region (country grouping)\n",
      "   - Major_Category\n",
      "   - Is_Successful\n"
     ]
    }
   ],
   "source": [
    "print(\"\\n2. CATEGORICAL FEATURES:\")\n",
    "\n",
    "df['Gender_Encoded'] = df['Gender'].map({\n",
    "    'Male': 1, 'Female': 2, 'Other': 3, \"Don't want to specify\": 4\n",
    "})\n",
    "\n",
    "country_mapping = {\n",
    "    'United States': 'North_America',\n",
    "    'Canada': 'North_America',\n",
    "    'India': 'South_Asia',\n",
    "    'Pakistan': 'South_Asia',\n",
    "    'Bangladesh': 'South_Asia',\n",
    "    'Nigeria': 'Africa',\n",
    "    'Ghana': 'Africa',\n",
    "    'Egypt': 'Africa',\n",
    "    'United Kingdom': 'Europe',\n",
    "    'Germany': 'Europe'\n",
    "}\n",
    "\n",
    "df['Region'] = df['Country'].map(country_mapping).fillna('Other')\n",
    "\n",
    "def categorize_major(major):\n",
    "    if pd.isna(major):\n",
    "        return \"Other\"\n",
    "    major_lower = major.lower()\n",
    "\n",
    "    if any(word in major_lower for word in [\"computer\", \"software\", \"cyber\", \"data\", \"information\", \"ai\", \"machine learning\", \"it\"]):\n",
    "        return \"Tech\"\n",
    "    elif any(word in major_lower for word in [\"business\", \"finance\", \"marketing\", \"management\", \"commerce\", \"accounting\"]):\n",
    "        return \"Business\"\n",
    "    elif any(word in major_lower for word in [\"health\", \"medicine\", \"nursing\", \"pharmacy\", \"biomedical\", \"public health\", \"medical\", \"clinical\"]):\n",
    "        return \"Health\"\n",
    "    else:\n",
    "        return \"Other\"\n",
    "\n",
    "df[\"Major_Category\"] = df[\"Current/Intended Major\"].apply(categorize_major)\n",
    "\n",
    "# Status success indicator\n",
    "success_statuses = ['Started', 'Team Allocated', 'Rewards Award']\n",
    "df['Is_Successful'] = df['Status Description'].isin(success_statuses).astype(int)\n",
    "\n",
    "print(\"Categorical features created:\")\n",
    "print(\"   - Gender_Encoded\")\n",
    "print(\"   - Region (country grouping)\")\n",
    "print(\"   - Major_Category\")\n",
    "print(\"   - Is_Successful\")"
   ]
  },
  {
   "cell_type": "code",
   "execution_count": 297,
   "id": "7ea82132-7fda-4cb8-bab9-a200b683a65a",
   "metadata": {},
   "outputs": [
    {
     "name": "stdout",
     "output_type": "stream",
     "text": [
      "\n",
      "3. BEHAVIORAL FEATURES:\n",
      "Behavioral features created:\n",
      "   - Same_Day_Application, Late_Applicant\n",
      "   - Opportunity_Popularity, Popular_Opportunity\n"
     ]
    }
   ],
   "source": [
    "print(\"\\n3. BEHAVIORAL FEATURES:\")\n",
    "\n",
    "df['Same_Day_Application'] = (df['Signup_to_Apply_Days'] == 0).astype(int)\n",
    "df['Late_Applicant'] = (df['Signup_to_Apply_Days'] > 30).astype(int)\n",
    "\n",
    "opportunity_counts = df['Opportunity Name'].value_counts()\n",
    "df['Opportunity_Popularity'] = df['Opportunity Name'].map(opportunity_counts)\n",
    "df['Popular_Opportunity'] = (df['Opportunity_Popularity'] > df['Opportunity_Popularity'].median()).astype(int)\n",
    "\n",
    "print(\"Behavioral features created:\")\n",
    "print(\"   - Same_Day_Application, Late_Applicant\")\n",
    "print(\"   - Opportunity_Popularity, Popular_Opportunity\")"
   ]
  },
  {
   "cell_type": "code",
   "execution_count": 299,
   "id": "f1adbddc-c51b-4dc6-a028-a91d0ef7ed5c",
   "metadata": {},
   "outputs": [
    {
     "name": "stdout",
     "output_type": "stream",
     "text": [
      "\n",
      "4. INTERACTION FEATURES:\n",
      "Interaction features created:\n",
      "   - Age_Major_Combo\n",
      "   - Country_Gender\n",
      "   - Region_Opportunity\n"
     ]
    }
   ],
   "source": [
    "print(\"\\n4. INTERACTION FEATURES:\")\n",
    "\n",
    "df['Age_Major_Combo'] = df['Age_Group'].astype(str) + '_' + df['Major_Category']\n",
    "\n",
    "df['Country_Gender'] = df['Country'] + '_' + df['Gender']\n",
    "\n",
    "df['Region_Opportunity'] = df['Region'] + '_' + df['Opportunity Category']\n",
    "\n",
    "print(\"Interaction features created:\")\n",
    "print(\"   - Age_Major_Combo\")\n",
    "print(\"   - Country_Gender\")\n",
    "print(\"   - Region_Opportunity\")"
   ]
  },
  {
   "cell_type": "code",
   "execution_count": 301,
   "id": "512ba2f0-d7ca-4940-9b97-376a11850304",
   "metadata": {},
   "outputs": [
    {
     "name": "stdout",
     "output_type": "stream",
     "text": [
      "\n",
      "5. FEATURE SCALING:\n",
      "Features scaled using StandardScaler!\n",
      "   - Age mean: 0.00, std: 1.00\n",
      "   - Duration mean: -0.00, std: 1.00\n",
      "   - Popularity mean: -0.00, std: 1.00\n"
     ]
    }
   ],
   "source": [
    "print(\"\\n5. FEATURE SCALING:\")\n",
    "\n",
    "numerical_cols = ['Current_Age', 'Course_Duration_Days',\n",
    "                  'Opportunity_Popularity', 'Signup_to_Apply_Days']\n",
    "\n",
    "scaler = StandardScaler()\n",
    "df[numerical_cols] = scaler.fit_transform(df[numerical_cols])\n",
    "\n",
    "print(\"Features scaled using StandardScaler!\")\n",
    "print(f\"   - Age mean: {df['Current_Age'].mean():.2f}, std: {df['Current_Age'].std():.2f}\")\n",
    "print(f\"   - Duration mean: {df['Course_Duration_Days'].mean():.2f}, std: {df['Course_Duration_Days'].std():.2f}\")\n",
    "print(f\"   - Popularity mean: {df['Opportunity_Popularity'].mean():.2f}, std: {df['Opportunity_Popularity'].std():.2f}\")"
   ]
  },
  {
   "cell_type": "code",
   "execution_count": 303,
   "id": "fcd359ef-cdfa-42cf-bb65-8d1659514a14",
   "metadata": {},
   "outputs": [
    {
     "name": "stdout",
     "output_type": "stream",
     "text": [
      "\n",
      "6. ENGAGEMENT SCORE:\n",
      "Engagement Score created:\n",
      "   - Score range: 0.00 to 1.00\n",
      "   - High engagement: 3835 students\n",
      "   - Medium engagement: 2251 students\n",
      "   - Low engagement: 2472 students\n"
     ]
    }
   ],
   "source": [
    "print(\"\\n6. ENGAGEMENT SCORE:\")\n",
    "\n",
    "df['Engagement_Score'] = (\n",
    "    df['Quick_Applicant'] * 0.25 +\n",
    "    df['Same_Day_Application'] * 0.15 +\n",
    "    df['Popular_Opportunity'] * 0.20 +\n",
    "    df['Is_Successful'] * 0.40\n",
    ")\n",
    "\n",
    "df['Engagement_Level'] = pd.cut(\n",
    "    df['Engagement_Score'],\n",
    "    bins=[-0.01, 0.3, 0.6, 1.01],  # extend range slightly\n",
    "    labels=['Low', 'Medium', 'High'],\n",
    "    include_lowest=True\n",
    ")\n",
    "\n",
    "print(\"Engagement Score created:\")\n",
    "print(f\"   - Score range: {df['Engagement_Score'].min():.2f} to {df['Engagement_Score'].max():.2f}\")\n",
    "print(f\"   - High engagement: {(df['Engagement_Level'] == 'High').sum()} students\")\n",
    "print(f\"   - Medium engagement: {(df['Engagement_Level'] == 'Medium').sum()} students\")\n",
    "print(f\"   - Low engagement: {(df['Engagement_Level'] == 'Low').sum()} students\")"
   ]
  },
  {
   "cell_type": "code",
   "execution_count": 305,
   "id": "99e1446e-b47c-47df-b24a-400ed539da1d",
   "metadata": {},
   "outputs": [],
   "source": [
    "# 1. Apply vs Start Gap\n",
    "df[\"Apply_vs_Start_Gap\"] = (\n",
    "    df[\"Apply Date\"] - df[\"Opportunity Start Date\"]\n",
    ").dt.days\n",
    "\n",
    "# --- User Behavior Features ---\n",
    "# 2. Applications per User\n",
    "df[\"Applications_per_User\"] = df.groupby(\"First Name\")[\"Opportunity Id\"].transform(\"count\")\n",
    "\n",
    "# 3. Unique Categories per User\n",
    "df[\"Unique_Categories_per_User\"] = df.groupby(\"First Name\")[\"Opportunity Category\"].transform(\"nunique\")\n",
    "\n",
    "# --- Geomorphic Features ---\n",
    "# 4. Region + Age Group feature\n",
    "df['Region_AgeGroup'] = df[\"Region\"].astype(str) + \"_\" + df[\"Age_Group\"].astype(str)\n",
    "\n",
    "# --- Composition Features ---\n",
    "# 7. Applications for Opportunity (Composition Feature)\n",
    "df[\"Applications_for_Opportunity\"] = df.groupby(\"Opportunity Id\")[\"First Name\"].transform(\"count\")\n",
    "\n",
    "# 5. Region Normalized Applications\n",
    "df[\"Region_Normalized_Applications\"] = (\n",
    "    df.groupby(\"Region\")[\"Applications_per_User\"]\n",
    "    .transform(lambda x: (x - x.min()) / (x.max() - x.min() + 1e-6))\n",
    ")\n",
    "\n",
    "# 6. User Success Rate (Application vs Win)\n",
    "if \"Win\" in df.columns: # checking if 'Win' column exists to mark successful applications\n",
    "    df[\"User_Success_Rate\"] = (\n",
    "        df.groupby(\"First Name\")[\"Win\"].transform(\"sum\") / (df[\"Applications_per_User\"] + 1e-6)\n",
    "    )\n",
    "else:\n",
    "    df[\"User_Success_Rate\"] = np.nan  # placeholder if 'Win' column not available\n",
    "\n",
    "# Select only the feature columns for export in the specified order\n",
    "feature_columns = [\n",
    "    'Apply_vs_Start_Gap',\n",
    "    'Applications_per_User',\n",
    "    'Unique_Categories_per_User',\n",
    "    'Region_AgeGroup',\n",
    "    'Applications_for_Opportunity',\n",
    "    'Region_Normalized_Applications',\n",
    "    'User_Success_Rate'\n",
    "]\n",
    "\n",
    "# Add 'Win' column if it exists\n",
    "if \"Win\" in df.columns:\n",
    "    feature_columns.append('Win')\n",
    "\n",
    "# Create a new DataFrame with only the feature columns\n",
    "df_features = df[feature_columns].copy()"
   ]
  },
  {
   "cell_type": "code",
   "execution_count": 271,
   "id": "7cef8207-fab4-494a-8c35-0544079d4ab5",
   "metadata": {},
   "outputs": [
    {
     "name": "stdout",
     "output_type": "stream",
     "text": [
      "Total number of columns: 47\n"
     ]
    }
   ],
   "source": [
    "print(f\"Total number of columns: {len(df.columns)}\")"
   ]
  },
  {
   "cell_type": "code",
   "execution_count": 326,
   "id": "c932459f-5bec-4679-b45e-b315ea01cdd3",
   "metadata": {},
   "outputs": [
    {
     "name": "stdout",
     "output_type": "stream",
     "text": [
      "<class 'pandas.core.frame.DataFrame'>\n",
      "RangeIndex: 8558 entries, 0 to 8557\n",
      "Data columns (total 47 columns):\n",
      " #   Column                          Non-Null Count  Dtype         \n",
      "---  ------                          --------------  -----         \n",
      " 0   Learner SignUp DateTime         8558 non-null   datetime64[ns]\n",
      " 1   Opportunity Id                  8558 non-null   object        \n",
      " 2   Opportunity Name                8558 non-null   string        \n",
      " 3   Opportunity Category            8558 non-null   string        \n",
      " 4   Opportunity End Date            8558 non-null   datetime64[ns]\n",
      " 5   First Name                      8558 non-null   string        \n",
      " 6   Date of Birth                   8558 non-null   datetime64[ns]\n",
      " 7   Gender                          8558 non-null   string        \n",
      " 8   Country                         8558 non-null   string        \n",
      " 9   Institution Name                8558 non-null   string        \n",
      " 10  Current/Intended Major          8558 non-null   string        \n",
      " 11  Entry created at                8558 non-null   datetime64[ns]\n",
      " 12  Status Description              8558 non-null   string        \n",
      " 13  Status Code                     8558 non-null   int64         \n",
      " 14  Apply Date                      8558 non-null   datetime64[ns]\n",
      " 15  Opportunity Start Date          8558 non-null   datetime64[ns]\n",
      " 16  Age                             8558 non-null   int32         \n",
      " 17  Current_Age                     8558 non-null   float64       \n",
      " 18  Age_Group                       8558 non-null   category      \n",
      " 19  Signup_to_Apply_Days            8558 non-null   int64         \n",
      " 20  Course_Duration_Days            8558 non-null   int64         \n",
      " 21  Signup_Month                    8558 non-null   int32         \n",
      " 22  Signup_Weekday                  8558 non-null   object        \n",
      " 23  Signup_Hour                     8558 non-null   int32         \n",
      " 24  Is_Weekend_Signup               8558 non-null   bool          \n",
      " 25  Quick_Applicant                 8558 non-null   int32         \n",
      " 26  Invalid_Application_Timing      8558 non-null   bool          \n",
      " 27  Gender_Encoded                  8558 non-null   int64         \n",
      " 28  Region                          8558 non-null   object        \n",
      " 29  Major_Category                  8558 non-null   object        \n",
      " 30  Is_Successful                   8558 non-null   int32         \n",
      " 31  Same_Day_Application            8558 non-null   int32         \n",
      " 32  Late_Applicant                  8558 non-null   int32         \n",
      " 33  Opportunity_Popularity          8558 non-null   float64       \n",
      " 34  Popular_Opportunity             8558 non-null   int32         \n",
      " 35  Age_Major_Combo                 8558 non-null   object        \n",
      " 36  Country_Gender                  8558 non-null   string        \n",
      " 37  Region_Opportunity              8558 non-null   string        \n",
      " 38  Engagement_Score                8558 non-null   float64       \n",
      " 39  Engagement_Level                8558 non-null   category      \n",
      " 40  Apply_vs_Start_Gap              8558 non-null   int64         \n",
      " 41  Applications_per_User           8558 non-null   int64         \n",
      " 42  Unique_Categories_per_User      8558 non-null   int64         \n",
      " 43  Region_AgeGroup                 8558 non-null   object        \n",
      " 44  Applications_for_Opportunity    8558 non-null   int64         \n",
      " 45  Region_Normalized_Applications  8558 non-null   float64       \n",
      " 46  User_Success_Rate               8558 non-null   float64       \n",
      "dtypes: bool(2), category(2), datetime64[ns](6), float64(5), int32(8), int64(8), object(6), string(10)\n",
      "memory usage: 2.6+ MB\n",
      "None\n"
     ]
    }
   ],
   "source": [
    "print(df.info())"
   ]
  }
 ],
 "metadata": {
  "kernelspec": {
   "display_name": "Python [conda env:base] *",
   "language": "python",
   "name": "conda-base-py"
  },
  "language_info": {
   "codemirror_mode": {
    "name": "ipython",
    "version": 3
   },
   "file_extension": ".py",
   "mimetype": "text/x-python",
   "name": "python",
   "nbconvert_exporter": "python",
   "pygments_lexer": "ipython3",
   "version": "3.12.7"
  }
 },
 "nbformat": 4,
 "nbformat_minor": 5
}
